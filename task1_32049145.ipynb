{
 "cells": [
  {
   "cell_type": "markdown",
   "id": "3acb0f8b",
   "metadata": {},
   "source": [
    "# FIT5196 Assessment 1 Task 1\n",
    "\n",
    "\n",
    "## Student Name: Ding Ding\n",
    "\n",
    "\n",
    "## Student ID: 32049145\n",
    "\n",
    "\n",
    "#### Environment: Python 3.9 and Anaconda 4.11.0\n",
    "\n",
    "\n",
    "#### Libraries used:\n",
    "#### re (for regular expression, included in Anaconda Python 3.9)"
   ]
  },
  {
   "cell_type": "markdown",
   "id": "7542b61d",
   "metadata": {},
   "source": [
    "# 1. Introduction\n",
    "\n",
    "This assignment aims to convert the semi-structured text data to an xml data format.There are 40 text files about 37.3MB in total, which should be transformed.\n",
    "\n",
    "\n",
    "1. Merge all text files to one variable called input\n",
    "     "
   ]
  },
  {
   "cell_type": "markdown",
   "id": "d1f8bb31",
   "metadata": {},
   "source": [
    "# 2. Import library"
   ]
  },
  {
   "cell_type": "code",
   "execution_count": 1,
   "id": "a095408c",
   "metadata": {},
   "outputs": [],
   "source": [
    "import re"
   ]
  },
  {
   "cell_type": "markdown",
   "id": "d489e422",
   "metadata": {},
   "source": [
    "# 3. Loading data"
   ]
  },
  {
   "cell_type": "code",
   "execution_count": 2,
   "id": "dfd502ea",
   "metadata": {},
   "outputs": [],
   "source": [
    "#define a new variable called input\n",
    "input = ''\n",
    "\n",
    "#read the whole file and load into input\n",
    "for i in range(1,41):\n",
    "    with open(r'C:/Users/ROG/5196/32049145/32049145_task1_input' + str(i) + '.txt', 'r', encoding = 'utf-8') as fp:\n",
    "        for line in fp:\n",
    "            input += line\n",
    "        fp.close()"
   ]
  },
  {
   "cell_type": "markdown",
   "id": "998d9e2b",
   "metadata": {},
   "source": [
    "# 4.Unified text format and avoid illegal characters for xml format\n",
    "\n",
    "1. I grabbed document and used $ as the identifier first, and then I found that there are only a few similar variants of one feature.\n",
    "2. I also found some problems on xml format that some symbols is illgeal, I also changed them to the correct format."
   ]
  },
  {
   "cell_type": "code",
   "execution_count": 3,
   "id": "40147d07",
   "metadata": {},
   "outputs": [],
   "source": [
    "#keep the input unchanged\n",
    "input1 = input\n",
    "\n",
    "#use re function to delete several continous newline to one\n",
    "output = re.sub(r'(?:\\n)+', r' ', input1)\n",
    "\n",
    "#unified all characters\n",
    "output = re.sub(r'\\$(?:rev[\\w\\.]+ID.): ([A-Z0-9]+) \\$', r'$reviewer.ID: \\1\\n$', output)\n",
    "\n",
    "output = re.sub(r'\\$(?:p.*?ID.): ([A-Z0-9]+) \\$', r'$product.ID: \\1$', output)\n",
    "\n",
    "output = re.sub(r'\\$review(?:_date|Date).: (\\d{2} \\d{1,2}, \\d{4}) \\$', r'$reviewDate: \\1$', output)\n",
    "\n",
    "output = re.sub(r'(?:\\$No. helps|\\$Helpful\\?).: (\\[\\d+, \\d+]) \\$', r'$helpful.no: \\1$', output)\n",
    "\n",
    "output = re.sub(r'(?:\\$review_text.|\\$REVIEW.): (.*?) \\$', r'$review_text: \\1$', output)\n",
    "\n",
    "output = re.sub(r'(?:\\$review_summary.|\\$SUMMARY.): (.*?) \\$r', r'$review_summary: \\1\\n$r', output)\n",
    "\n",
    "output = re.sub(r'(?:\\$reviewer.NAME|\\$reviewerName|\\$rev_NAME).: (.*?) \\$', r'$', output)\n",
    "\n",
    "#change all illegal characters to legal one\n",
    "output = output.replace('&', ' &amp; ')\n",
    "output = output.replace(\"'\", \" &apos; \")\n",
    "output = output.replace('\"', \" &quot; \")\n",
    "output = output.replace('>', ' &gt; ')\n",
    "output = output.replace('<', ' &lt; ')"
   ]
  },
  {
   "cell_type": "markdown",
   "id": "c35d990f",
   "metadata": {},
   "source": [
    "# 5. Change the text from string to a list and then to a dictionary\n",
    "1. Split the string into a list with the identifier \\n, so that every character can be a unique element\n",
    "2. Find all reviewer.ID to put it as the key of the dictionary and others as the value\n",
    "3. Extract the value of dictionary to several lists with the character as the identifier\n",
    "4. Change the order of value in the dictonary"
   ]
  },
  {
   "cell_type": "code",
   "execution_count": 4,
   "id": "1027eacc",
   "metadata": {},
   "outputs": [],
   "source": [
    "list_a = []\n",
    "#Split the string into a list with the identifier \\n\n",
    "list_a = output.split('\\n')\n",
    "\n",
    "dict_output = dict()\n",
    "\n",
    "#put reviewer.ID as key and others as value and if the reviewer.ID exists, add the other characters into the value\n",
    "for i in range(len(list_a)):\n",
    "    if '$reviewer.ID:' in list_a[i]:\n",
    "        if list_a[i] not in dict_output.keys():\n",
    "            dict_output[list_a[i]] = list_a[i+1]\n",
    "        else:\n",
    "            dict_output[list_a[i]] += list_a[i+1]\n",
    "\n",
    "#split the value of the dictionary\n",
    "for k,v in dict_output.items():\n",
    "    dict_output[k] = re.split(r'(\\$product.ID: |\\$reviewDate: |\\$helpful.no: |\\$review_summary: |\\$review_text: )', v)\n",
    "    #remove the '' in the front\n",
    "    while '' in dict_output[k]:\n",
    "        dict_output[k].remove('')\n",
    "    #add all later element in the list to the former\n",
    "    for i in range(len(dict_output[k])):\n",
    "        if i < len(dict_output[k]) - 1:\n",
    "            dict_output[k][i] += dict_output[k][i+1]\n",
    "    \n",
    "    #delete all odd element of the list in the value of dictionary, which end with character\n",
    "    dict_output_list = []\n",
    "    for j in range(len(dict_output[k])):\n",
    "        if j % 2 == 0:\n",
    "            dict_output_list.append(dict_output[k][j])\n",
    "    dict_output[k] = dict_output_list\n",
    "    \n",
    "    #define all variables needed later, pi represents productID and so on, and value ordered is the order in the correct way\n",
    "    value_ordered = ''\n",
    "    pi = []\n",
    "    rd = []\n",
    "    hn = []\n",
    "    rt = []\n",
    "    rs = []\n",
    "    #if product.ID in the element of the list, change it to the xml format and so on\n",
    "    for i in range(len(dict_output[k])):\n",
    "        if \"$product.ID:\" in dict_output[k][i]:\n",
    "            temp = ''\n",
    "            temp = re.sub(r'\\$product.ID: (.*?)', r'<reviews><review><productID>\\1', dict_output[k][i])\n",
    "            temp += '</productID>'\n",
    "            pi.append(temp)\n",
    "        elif \"$reviewDate:\" in dict_output[k][i]:\n",
    "            temp = ''\n",
    "            temp = re.sub(r'\\$reviewDate: (.*?)', r'<review_date>\\1', dict_output[k][i])\n",
    "            temp += '</review_date>'\n",
    "            rd.append(temp)\n",
    "        elif \"$helpful.no:\" in dict_output[k][i]:\n",
    "            temp = ''\n",
    "            temp = re.sub(r'\\$helpful.no: (.*?)', r'<review_helpful>\\1', dict_output[k][i])\n",
    "            temp += '</review_helpful>'\n",
    "            hn.append(temp)\n",
    "        elif \"$review_text:\" in dict_output[k][i]:\n",
    "            temp = ''\n",
    "            temp = re.sub(r'\\$review_text: (.*?)', r'<review_text>\\1', dict_output[k][i])\n",
    "            temp += '</review_text>'\n",
    "            rt.append(temp)\n",
    "        elif \"$review_summary:\" in dict_output[k][i]:\n",
    "            temp = ''\n",
    "            temp = re.sub(r'\\$review_summary: (.*?)', r'<review_summary>\\1', dict_output[k][i])\n",
    "            temp += '</review_summary></review></reviews>'\n",
    "            rs.append(temp)\n",
    "    #put all results into the value_ordered in order\n",
    "    for m in range(len(pi)):\n",
    "        value_ordered += pi[m]\n",
    "        value_ordered += rd[m]\n",
    "        value_ordered += hn[m]   \n",
    "        value_ordered += rt[m]\n",
    "        value_ordered += rs[m]\n",
    "    #put the new order of the value into the corresponding dictionary\n",
    "    dict_output[k] = value_ordered"
   ]
  },
  {
   "cell_type": "markdown",
   "id": "8fc2c41b",
   "metadata": {},
   "source": [
    "# 6. Compare the review date\n",
    "1. Find the review date for all reviews\n",
    "2. Cut the date to year, and compare year, then month, last compare the day"
   ]
  },
  {
   "cell_type": "code",
   "execution_count": 5,
   "id": "378f7edb",
   "metadata": {},
   "outputs": [],
   "source": [
    "#extract all date in the value of the dictionary\n",
    "for k,v in dict_output.items():\n",
    "    latest_date = []\n",
    "    latest_date = re.findall(r'<review_date>(\\d{2} \\d{1,2}, \\d{4})', dict_output[k])\n",
    "    #distinguish the date according to the length, if length is 1, then that is the latest review, or compare the year\n",
    "    if len(latest_date) == 1:\n",
    "        dict_output[k] = '<latest_review_date>' + latest_date[0] + '</latest_review_date>' + dict_output[k]\n",
    "    else:\n",
    "        #cut the year for the last four digits, and record the largest one\n",
    "        latest_year = 0\n",
    "        for i in latest_date:\n",
    "            if int(i[-4:]) > latest_year:\n",
    "                latest_year = int(i[-4:])\n",
    "        #delete all elements with smaller than the largest year, if the length of the list is longer than 1, compare the month\n",
    "        for i in range(len(latest_date))[::-1]:\n",
    "            if int(latest_date[i][-4:]) < latest_year:\n",
    "                latest_date.remove(latest_date[i])\n",
    "        if len(latest_date) == 1:\n",
    "            dict_output[k] = '<latest_review_date>' + latest_date[0] + '</latest_review_date>' + dict_output[k]\n",
    "        else:\n",
    "            #cut the month for the first two digits, and record the largest one\n",
    "            latest_month = 0\n",
    "            for i in latest_date:\n",
    "                if int(i[:2]) > latest_month:\n",
    "                    latest_month = int(i[:2])\n",
    "            #delete all elements with smaller than the largest month, if the length of the list is longer than 1, compare the day\n",
    "            for i in range(len(latest_date))[::-1]:\n",
    "                if int(latest_date[i][:2]) < latest_month:\n",
    "                    latest_date.remove(latest_date[i])\n",
    "            if len(latest_date) == 1:\n",
    "                dict_output[k] = '<latest_review_date>' + latest_date[0] + '</latest_review_date>' + dict_output[k]\n",
    "            else:\n",
    "                #copy the list of the day. first cut last six bits and then cut the first three bits to only keep the day, since the day is one or two digits\n",
    "                latest_day = 0\n",
    "                latest_date_cut = latest_date\n",
    "                for i in range(len(latest_date_cut)):\n",
    "                    latest_date_cut[i] = latest_date_cut[i].replace(latest_date_cut[i][-6:], '')\n",
    "                    latest_date_cut[i] = latest_date_cut[i].replace(latest_date_cut[i][:3], '')\n",
    "                for i in latest_date_cut:\n",
    "                    if int(i) > latest_day:\n",
    "                        latest_day = int(i)\n",
    "                #delete all elements with smaller than the largest day, if the length of the list is longer than 1, change it to the set to delete the same date\n",
    "                for i in range(len(latest_date))[::-1]:\n",
    "                    if int(latest_date_cut[i]) < latest_day:\n",
    "                        latest_date.remove(latest_date[i])\n",
    "                latest_date = set(latest_date)\n",
    "                latest_date = list(latest_date)\n",
    "                dict_output[k] = '<latest_review_date>' + latest_date[0] + '</latest_review_date>' + dict_output[k]\n"
   ]
  },
  {
   "cell_type": "markdown",
   "id": "a415b6b0",
   "metadata": {},
   "source": [
    "# 7. Modify the format to xml\n",
    "1. Change the key of the dictionary to xml format\n",
    "2. Modify the beginning and end"
   ]
  },
  {
   "cell_type": "code",
   "execution_count": 6,
   "id": "7ec23475",
   "metadata": {},
   "outputs": [],
   "source": [
    "#create a new dictionary to change the key\n",
    "dict_key_changed = {}\n",
    "xml_output = ''\n",
    "#change the key to xml format and then add all keys and values to xml_output\n",
    "for k,v in dict_output.items():\n",
    "    new_key = ''\n",
    "    new_key = k[14:]\n",
    "    new_key = '</user><user name=\"' + str(new_key) + '\">'\n",
    "    dict_key_changed[new_key] = v\n",
    "    xml_output += new_key\n",
    "    xml_output += v\n",
    "\n",
    "#Change the beginning and end to xml\n",
    "xml_output = xml_output[7:]\n",
    "xml_output = '<users>' + xml_output + '</user></users>'\n",
    "xml_output = re.sub(r'</review_summary></review></reviews><reviews><review><productID>', r'</review_summary></review><review><productID>', xml_output)"
   ]
  },
  {
   "cell_type": "markdown",
   "id": "d22b8dab",
   "metadata": {},
   "source": [
    "# 8. Output to the file"
   ]
  },
  {
   "cell_type": "code",
   "execution_count": 7,
   "id": "e07182db",
   "metadata": {},
   "outputs": [],
   "source": [
    "text_file = open(r'D:/32049145.xml', 'w')\n",
    "\n",
    "text_file.write(xml_output)\n",
    "             \n",
    "text_file.close()"
   ]
  },
  {
   "cell_type": "markdown",
   "id": "9e6249a0",
   "metadata": {},
   "source": [
    "# Reference List:\n",
    "1. https://stackoverflow.com/questions/730133/what-are-invalid-characters-in-xml\n",
    "2. https://stackoverflow.com/questions/13046240/parseerror-not-well-formed-invalid-token-using-celementtree"
   ]
  }
 ],
 "metadata": {
  "kernelspec": {
   "display_name": "Python 3 (ipykernel)",
   "language": "python",
   "name": "python3"
  },
  "language_info": {
   "codemirror_mode": {
    "name": "ipython",
    "version": 3
   },
   "file_extension": ".py",
   "mimetype": "text/x-python",
   "name": "python",
   "nbconvert_exporter": "python",
   "pygments_lexer": "ipython3",
   "version": "3.9.12"
  }
 },
 "nbformat": 4,
 "nbformat_minor": 5
}
